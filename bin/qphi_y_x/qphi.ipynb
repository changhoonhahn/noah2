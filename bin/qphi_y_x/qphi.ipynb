{
 "cells": [
  {
   "cell_type": "code",
   "execution_count": 1,
   "metadata": {},
   "outputs": [],
   "source": [
    "import os\n",
    "import numpy as np\n",
    "from tqdm.notebook import tqdm, trange"
   ]
  },
  {
   "cell_type": "code",
   "execution_count": 2,
   "metadata": {},
   "outputs": [],
   "source": [
    "from noah2 import data as D\n",
    "from noah2 import util as U"
   ]
  },
  {
   "cell_type": "code",
   "execution_count": 3,
   "metadata": {},
   "outputs": [],
   "source": [
    "import torch\n",
    "from torch import nn \n",
    "from torch.utils.tensorboard.writer import SummaryWriter\n",
    "\n",
    "from sbi import utils as Ut\n",
    "from sbi import inference as Inference"
   ]
  },
  {
   "cell_type": "code",
   "execution_count": 4,
   "metadata": {},
   "outputs": [],
   "source": [
    "import corner as DFM\n",
    "# --- plotting ---\n",
    "import matplotlib as mpl\n",
    "import matplotlib.pyplot as plt\n",
    "mpl.rcParams['text.usetex'] = True\n",
    "mpl.rcParams['font.family'] = 'serif'\n",
    "mpl.rcParams['axes.linewidth'] = 1.5\n",
    "mpl.rcParams['axes.xmargin'] = 1\n",
    "mpl.rcParams['xtick.labelsize'] = 'x-large'\n",
    "mpl.rcParams['xtick.major.size'] = 5\n",
    "mpl.rcParams['xtick.major.width'] = 1.5\n",
    "mpl.rcParams['ytick.labelsize'] = 'x-large'\n",
    "mpl.rcParams['ytick.major.size'] = 5\n",
    "mpl.rcParams['ytick.major.width'] = 1.5\n",
    "mpl.rcParams['legend.frameon'] = False\n",
    "%matplotlib inline"
   ]
  },
  {
   "cell_type": "code",
   "execution_count": 5,
   "metadata": {},
   "outputs": [],
   "source": [
    "cuda = torch.cuda.is_available()\n",
    "device = (\"cuda:0\" if cuda else \"cpu\")"
   ]
  },
  {
   "cell_type": "markdown",
   "metadata": {},
   "source": [
    "## load training and testing data"
   ]
  },
  {
   "cell_type": "code",
   "execution_count": 6,
   "metadata": {},
   "outputs": [],
   "source": [
    "DNoah = D.Noah2()\n",
    "data_train = DNoah._read_data(version='0.1', split='train')\n",
    "data_test = DNoah._read_data(version='0.1', split='test')"
   ]
  },
  {
   "cell_type": "code",
   "execution_count": 12,
   "metadata": {},
   "outputs": [],
   "source": [
    "# log10 scale some of the columns to reduce dynamical scale\n",
    "data_train[:,0] = np.log10(data_train[:,0])\n",
    "data_train[:,3] = np.log10(data_train[:,3])\n",
    "data_train[:,4] = np.log10(data_train[:,4])\n",
    "\n",
    "data_test[:,0] = np.log10(data_test[:,0])\n",
    "data_test[:,3] = np.log10(data_test[:,3])\n",
    "data_test[:,4] = np.log10(data_test[:,4])"
   ]
  },
  {
   "cell_type": "markdown",
   "metadata": {},
   "source": [
    "## set $Y$ prior "
   ]
  },
  {
   "cell_type": "code",
   "execution_count": 14,
   "metadata": {},
   "outputs": [],
   "source": [
    "# prior \n",
    "lower_bounds = torch.tensor([1])\n",
    "upper_bounds = torch.tensor([9])\n",
    "prior = Ut.BoxUniform(low=lower_bounds, high=upper_bounds, device=device)"
   ]
  },
  {
   "cell_type": "markdown",
   "metadata": {},
   "source": [
    "# train $q_\\phi(Y\\,|\\,X)$"
   ]
  },
  {
   "cell_type": "code",
   "execution_count": 16,
   "metadata": {},
   "outputs": [
    {
     "name": "stderr",
     "output_type": "stream",
     "text": [
      "/opt/anaconda3/envs/noah/lib/python3.7/site-packages/sbi/neural_nets/flow.py:62: UserWarning: In one-dimensional output space, this flow is limited to Gaussians\n",
      "  warn(\"In one-dimensional output space, this flow is limited to Gaussians\")\n"
     ]
    },
    {
     "name": "stdout",
     "output_type": "stream",
     "text": [
      " Neural network successfully converged after 46 epochs.\n",
      "        -------------------------\n",
      "        ||||| ROUND 1 STATS |||||:\n",
      "        -------------------------\n",
      "        Epochs trained: 46\n",
      "        Best validation performance: -0.7118\n",
      "        -------------------------\n",
      "        \n"
     ]
    }
   ],
   "source": [
    "n_blocks = 2\n",
    "n_transf = 2\n",
    "n_hidden = 64\n",
    "l_rate = 1e-3\n",
    "n_comp = 2\n",
    "\n",
    "neural_posterior = Ut.posterior_nn('made', \n",
    "        hidden_features=n_hidden, \n",
    "        num_transforms=n_transf, \n",
    "        num_blocks=n_blocks, \n",
    "        num_mixture_components=n_comp, \n",
    "        use_batch_norm=True)\n",
    "\n",
    "anpe = Inference.SNPE(prior=prior,\n",
    "        density_estimator=neural_posterior,\n",
    "        device=device)\n",
    "\n",
    "anpe.append_simulations( \n",
    "        torch.tensor(data_train[:,:1], dtype=torch.float32).to(device), \n",
    "        torch.tensor(data_train[:,1:], dtype=torch.float32).to(device))\n",
    "\n",
    "qphi_y_x = anpe.train(\n",
    "        training_batch_size=50,\n",
    "        learning_rate=l_rate, \n",
    "        show_train_summary=True)\n",
    "\n",
    "# save trained NPE  \n",
    "qphi    = anpe.build_posterior(qphi_y_x)"
   ]
  },
  {
   "cell_type": "markdown",
   "metadata": {},
   "source": [
    "# validate trained $q_\\phi$\n",
    "Sample $Y_i'\\sim q_\\phi(Y\\,|\\,X^{\\rm test}_i)$ and compare against $Y^{\\rm test}_i$"
   ]
  },
  {
   "cell_type": "code",
   "execution_count": 19,
   "metadata": {},
   "outputs": [
    {
     "data": {
      "application/vnd.jupyter.widget-view+json": {
       "model_id": "d5d45ae1402c4b3587e3b9a94693dfa2",
       "version_major": 2,
       "version_minor": 0
      },
      "text/plain": [
       "  0%|          | 0/16737 [00:00<?, ?it/s]"
      ]
     },
     "metadata": {},
     "output_type": "display_data"
    }
   ],
   "source": [
    "n_sample = 10000\n",
    "\n",
    "y_nde, ranks = [], []\n",
    "for i in tqdm(np.arange(data_test.shape[0])): \n",
    "    _samp = qphi.sample((n_sample,), \n",
    "                        x=torch.tensor(data_test[i,1:], dtype=torch.float32).to(device), \n",
    "                        show_progress_bars=False)\n",
    "    y_nde.append(_samp.detach().cpu().numpy())\n",
    "    ranks.append(np.mean(y_nde[-1] < data_test[i,0]))\n",
    "    \n",
    "y_nde = np.array(y_nde)\n",
    "ranks = np.array(ranks)"
   ]
  },
  {
   "cell_type": "code",
   "execution_count": 32,
   "metadata": {},
   "outputs": [
    {
     "data": {
      "text/plain": [
       "[]"
      ]
     },
     "execution_count": 32,
     "metadata": {},
     "output_type": "execute_result"
    },
    {
     "data": {
      "image/png": "[encoded data removed]",
      "text/plain": [
       "<Figure size 360x288 with 1 Axes>"
      ]
     },
     "metadata": {
      "needs_background": "light"
     },
     "output_type": "display_data"
    }
   ],
   "source": [
    "fig = plt.figure(figsize=(5,4))\n",
    "sub = fig.add_subplot(111)\n",
    "_ = sub.hist(ranks, range=(0, 1), bins=10, density=True, histtype='step', linewidth=3)\n",
    "sub.plot([0., 1.], [1., 1.], c='k', ls='--')\n",
    "\n",
    "sub.set_xlabel('rank', fontsize=20)\n",
    "sub.set_xlim(0, 1)\n",
    "sub.set_ylim(0., 2.)\n",
    "sub.set_yticks([])\n",
    "sub.set_yticklabels([])"
   ]
  },
  {
   "cell_type": "code",
   "execution_count": 33,
   "metadata": {},
   "outputs": [
    {
     "ename": "ModuleNotFoundError",
     "evalue": "No module named 'tarp'",
     "output_type": "error",
     "traceback": [
      "\u001b[0;31m---------------------------------------------------------------------------\u001b[0m",
      "\u001b[0;31mModuleNotFoundError\u001b[0m                       Traceback (most recent call last)",
      "\u001b[0;32m<ipython-input-33-69d443b5cfb7>\u001b[0m in \u001b[0;36m<module>\u001b[0;34m\u001b[0m\n\u001b[0;32m----> 1\u001b[0;31m \u001b[0;32mfrom\u001b[0m \u001b[0mtarp\u001b[0m \u001b[0;32mimport\u001b[0m \u001b[0mget_drp_coverage\u001b[0m\u001b[0;34m\u001b[0m\u001b[0;34m\u001b[0m\u001b[0m\n\u001b[0m",
      "\u001b[0;31mModuleNotFoundError\u001b[0m: No module named 'tarp'"
     ]
    }
   ],
   "source": [
    "from tarp import get_drp_coverage"
   ]
  },
  {
   "cell_type": "code",
   "execution_count": null,
   "metadata": {},
   "outputs": [],
   "source": [
    "fig, ax = plt.subplots(1, 1, figsize=(6,6))\n",
    "ax.plot([0, 1], [0, 1], ls=\"--\", color=\"k\")\n",
    "alpha, ecp = get_drp_coverage(np.swapaxes(y_nde, 0, 1), data_test[:,0][:,None], \n",
    "                              references=\"random\", metric=\"euclidean\")\n",
    "ax.plot(alpha, ecp, color='C0', label='$q_\\phi$') \n",
    "\n",
    "ax.legend(loc='lower right', handletextpad=0.1, fontsize=25)\n",
    "ax.set_ylabel(\"Expected Coverage\", fontsize=25)\n",
    "ax.set_ylim(0., 1.)\n",
    "ax.set_xlabel(\"Credibility Level\", fontsize=25)\n",
    "ax.set_xlim(0., 1.)"
   ]
  }
 ],
 "metadata": {
  "kernelspec": {
   "display_name": "noah",
   "language": "python",
   "name": "noah"
  },
  "language_info": {
   "codemirror_mode": {
    "name": "ipython",
    "version": 3
   },
   "file_extension": ".py",
   "mimetype": "text/x-python",
   "name": "python",
   "nbconvert_exporter": "python",
   "pygments_lexer": "ipython3",
   "version": "3.7.9"
  }
 },
 "nbformat": 4,
 "nbformat_minor": 4
}
