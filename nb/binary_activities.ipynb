{
 "cells": [
  {
   "cell_type": "markdown",
   "metadata": {},
   "source": [
    "# binary activities"
   ]
  },
  {
   "cell_type": "code",
   "execution_count": 1,
   "metadata": {},
   "outputs": [],
   "source": [
    "import os\n",
    "import numpy as np \n",
    "from astropy.table import Table as aT"
   ]
  },
  {
   "cell_type": "code",
   "execution_count": 2,
   "metadata": {},
   "outputs": [],
   "source": [
    "from noah2 import data as D\n",
    "from noah2 import util as U"
   ]
  },
  {
   "cell_type": "code",
   "execution_count": 3,
   "metadata": {},
   "outputs": [],
   "source": [
    "import torch"
   ]
  },
  {
   "cell_type": "code",
   "execution_count": 4,
   "metadata": {},
   "outputs": [],
   "source": [
    "import corner as DFM\n",
    "# --- plotting ---\n",
    "import matplotlib as mpl\n",
    "import matplotlib.pyplot as plt\n",
    "mpl.rcParams['text.usetex'] = True\n",
    "mpl.rcParams['font.family'] = 'serif'\n",
    "mpl.rcParams['axes.linewidth'] = 1.5\n",
    "mpl.rcParams['axes.xmargin'] = 1\n",
    "mpl.rcParams['xtick.labelsize'] = 'x-large'\n",
    "mpl.rcParams['xtick.major.size'] = 5\n",
    "mpl.rcParams['xtick.major.width'] = 1.5\n",
    "mpl.rcParams['ytick.labelsize'] = 'x-large'\n",
    "mpl.rcParams['ytick.major.size'] = 5\n",
    "mpl.rcParams['ytick.major.width'] = 1.5\n",
    "mpl.rcParams['legend.frameon'] = False"
   ]
  },
  {
   "cell_type": "code",
   "execution_count": 38,
   "metadata": {},
   "outputs": [],
   "source": [
    "cuda = torch.cuda.is_available()\n",
    "device = (\"cuda:0\" if cuda else \"cpu\")"
   ]
  },
  {
   "cell_type": "markdown",
   "metadata": {},
   "source": [
    "# read data\n",
    "read data set of all CRS participants"
   ]
  },
  {
   "cell_type": "code",
   "execution_count": 5,
   "metadata": {},
   "outputs": [],
   "source": [
    "DNoah = D.Noah2()\n",
    "fema = DNoah._read_data_full(participants=True)"
   ]
  },
  {
   "cell_type": "code",
   "execution_count": 6,
   "metadata": {},
   "outputs": [],
   "source": [
    "metro = ((fema['RUCA1'] == 1))# | (fema['RUCA1'] == 2) | (fema['RUCA1'] == 3)) \n",
    "micro = ((fema['RUCA1'] == 4) | (fema['RUCA1'] == 5) | (fema['RUCA1'] == 6))\n",
    "small = ((fema['RUCA1'] == 7) | (fema['RUCA1'] == 8) | (fema['RUCA1'] == 9))\n",
    "rural = ((fema['RUCA1'] == 10))"
   ]
  },
  {
   "cell_type": "code",
   "execution_count": 29,
   "metadata": {},
   "outputs": [],
   "source": [
    "arch_dict = {'metro': metro, 'micro': micro, 'small': small, 'rural': rural}"
   ]
  },
  {
   "cell_type": "code",
   "execution_count": 7,
   "metadata": {},
   "outputs": [],
   "source": [
    "columns = DNoah._columns()[:8] + ['s_%s' % c for c in ['c350', 'c420', 'c450']]\n",
    "column_labels = np.array(DNoah._column_labels()[:8] + ['c350', 'c420', 'c450'])\n",
    "\n",
    "data = np.array([np.array(fema[col]) for col in columns]).T"
   ]
  },
  {
   "cell_type": "code",
   "execution_count": 8,
   "metadata": {},
   "outputs": [],
   "source": [
    "_data = data.copy()\n",
    "_data[:,0] = np.log10(_data[:,0])\n",
    "_data[:,3] = np.log10(_data[:,3])\n",
    "_data[:,4] = np.log10(_data[:,4])"
   ]
  },
  {
   "cell_type": "code",
   "execution_count": 9,
   "metadata": {},
   "outputs": [],
   "source": [
    "binary_activities = ['c360', 'c520', 'c530', 'c540', 'c610', 'c620', 'c630']\n",
    "\n",
    "binary_data = np.array([np.array(fema[col]) for col in binary_activities]).T\n",
    "binary_data = (binary_data > 0).astype(int)\n",
    "\n",
    "binary_act_codes = np.zeros(len(fema))\n",
    "for i in range(binary_data.shape[1]): \n",
    "    binary_act_codes += 2**i * binary_data[:,i]"
   ]
  },
  {
   "cell_type": "code",
   "execution_count": 10,
   "metadata": {},
   "outputs": [],
   "source": [
    "def uncode(num): \n",
    "    act = np.zeros(len(binary_activities)).astype(int)\n",
    "    while num > 0: \n",
    "        ind = int(np.floor(np.log(num)/np.log(2)))\n",
    "        num = num - 2**ind\n",
    "        act[ind] = 1\n",
    "    return act"
   ]
  },
  {
   "cell_type": "code",
   "execution_count": 11,
   "metadata": {},
   "outputs": [
    {
     "name": "stdout",
     "output_type": "stream",
     "text": [
      "[0 0 0 0 0 0 0]\n",
      "12737 communities\n",
      "315 unique zipcodes\n",
      "\n",
      "[0 1 0 0 0 0 0]\n",
      "3861 communities\n",
      "118 unique zipcodes\n",
      "\n",
      "[0 0 0 1 0 0 0]\n",
      "4399 communities\n",
      "113 unique zipcodes\n",
      "\n",
      "[1 0 0 1 0 0 0]\n",
      "1935 communities\n",
      "147 unique zipcodes\n",
      "\n",
      "[0 1 0 1 0 0 0]\n",
      "52339 communities\n",
      "119 unique zipcodes\n",
      "\n",
      "[1 1 0 1 1 0 0]\n",
      "2798 communities\n",
      "112 unique zipcodes\n",
      "\n",
      "[0 0 0 0 0 0 1]\n",
      "4971 communities\n",
      "308 unique zipcodes\n",
      "\n",
      "[0 1 0 0 0 0 1]\n",
      "2109 communities\n",
      "234 unique zipcodes\n",
      "\n",
      "[0 0 0 1 0 0 1]\n",
      "1005 communities\n",
      "119 unique zipcodes\n",
      "\n",
      "[1 1 0 1 0 0 1]\n",
      "30175 communities\n",
      "165 unique zipcodes\n",
      "\n"
     ]
    }
   ],
   "source": [
    "act_enough_stat = []\n",
    "for code in np.unique(binary_act_codes): \n",
    "    ncomm = np.sum(binary_act_codes == code)\n",
    "    nzip = len(np.unique(fema['zipcode'][binary_act_codes == code]))\n",
    "    if nzip < 100: continue\n",
    "    print(uncode(code))        \n",
    "    print('%i communities' % ncomm)\n",
    "    print('%i unique zipcodes' % nzip)\n",
    "    act_enough_stat.append(code)\n",
    "    print()"
   ]
  },
  {
   "cell_type": "code",
   "execution_count": 12,
   "metadata": {},
   "outputs": [
    {
     "data": {
      "text/plain": [
       "[0.0, 2.0, 8.0, 9.0, 10.0, 27.0, 64.0, 66.0, 72.0, 75.0]"
      ]
     },
     "execution_count": 12,
     "metadata": {},
     "output_type": "execute_result"
    }
   ],
   "source": [
    "act_enough_stat"
   ]
  },
  {
   "cell_type": "markdown",
   "metadata": {},
   "source": [
    "## c360\n",
    "Lets look for natural experiments that we can use to assess the impact of `c360`. Lets start with rural communities"
   ]
  },
  {
   "cell_type": "code",
   "execution_count": 83,
   "metadata": {},
   "outputs": [],
   "source": [
    "def find_natural_experiments(act, archetype, verbose=False):\n",
    "    i_act = binary_activities.index(act)\n",
    "    arch = {'rural': rural, 'small': small, 'micro': micro, 'metro': metro, \n",
    "            'all': np.ones(len(fema)).astype(bool)}[archetype]\n",
    "    if verbose: print('%s:' % archetype)\n",
    "\n",
    "    # search for natural experiments \n",
    "    experiments = []\n",
    "    u_act_codes = np.unique(binary_act_codes)\n",
    "    for i in range(len(u_act_codes)): \n",
    "        for j in range(i+1, len(u_act_codes)): \n",
    "            if not np.all(uncode(u_act_codes[j]) - uncode(u_act_codes[i]) >= 0): continue\n",
    "            if np.sum((uncode(u_act_codes[j]) - uncode(u_act_codes[i])) == 1) != 1: continue\n",
    "            if (uncode(u_act_codes[j]) - uncode(u_act_codes[i]))[i_act] != 1: continue\n",
    "\n",
    "            is_codei = (binary_act_codes == u_act_codes[i])\n",
    "            is_codej = (binary_act_codes == u_act_codes[j])\n",
    "\n",
    "\n",
    "            if np.sum(is_codej & arch) > 0 and np.sum(is_codei & arch) > 0: \n",
    "                nzip_i = len(np.unique(fema['zipcode'][is_codei & arch]))\n",
    "                nzip_j = len(np.unique(fema['zipcode'][is_codej & arch]))\n",
    "                \n",
    "                if not u_act_codes[j] in act_enough_stat and not u_act_codes[i] in act_enough_stat: \n",
    "                    continue\n",
    "                \n",
    "                if np.min([nzip_j, nzip_i]) < 2: continue\n",
    "                if verbose: \n",
    "                    print(uncode(u_act_codes[j]), '-', uncode(u_act_codes[i]))\n",
    "                    print(u_act_codes[j], '-', u_act_codes[i])\n",
    "                    print('communities %i - %i' % (np.sum(is_codej & arch), np.sum(is_codei & arch)))\n",
    "                    print('zipcodes %i - %i' % (nzip_j, nzip_i))\n",
    "                    print()\n",
    "                \n",
    "                # (treated, control) pairs\n",
    "                experiments.append((u_act_codes[j], u_act_codes[i]))\n",
    "    return experiments"
   ]
  },
  {
   "cell_type": "code",
   "execution_count": 139,
   "metadata": {},
   "outputs": [],
   "source": [
    "def load_Qphi_support(binary): \n",
    "    ''' load Qphi(X) for binary activity combination\n",
    "    '''\n",
    "    Qphi = torch.load('../dat/qphi/noah2.Qphi_support.binary%i.prelim.pt' % int(binary), map_location=device)\n",
    "    return Qphi\n",
    "\n",
    "def load_qphi(binary): \n",
    "    ''' load qphi(Y|X) for binary activity combination \n",
    "    '''\n",
    "    qphi = torch.load('../dat/qphi/noah2.qphi.binary%i.prelim.pt' % int(binary), map_location=device)\n",
    "    return qphi\n",
    "\n",
    "def check_support(binary, X, nsample=10000, threshold=0.95, verbose=False): \n",
    "    ''' check support for covariates X\n",
    "    '''\n",
    "    X = np.atleast_2d(X).copy()\n",
    "    # preprocess X\n",
    "    X[:,0] = U.inv_cdf_transform(X[:,0], [-1e-3, 1500])\n",
    "    X[:,1] = U.inv_cdf_transform(X[:,1], [-1e-3, 10])\n",
    "    X[:,2] = U.inv_cdf_transform(X[:,2], [3, 6])        \n",
    "    X[:,3] = U.inv_cdf_transform(X[:,3], [1, 6])        \n",
    "    X[:,4] = U.inv_cdf_transform(X[:,4], [-1e-3, 1+1e-3])            \n",
    "    X[:,5] = U.inv_cdf_transform(X[:,5], [-1e-3, 1+1e-3])            \n",
    "    X[:,6] = U.inv_cdf_transform(X[:,6], [-1e-3, 1+1e-3])      \n",
    "    # cdf transfer the CRS activities column    \n",
    "    X[:,-3] = U.inv_cdf_transform(X[:,-3], [-1e-3, 100.+1e-3])\n",
    "    X[:,-2] = U.inv_cdf_transform(X[:,-2], [-1e-3, 100.+1e-3])\n",
    "    X[:,-1] = U.inv_cdf_transform(X[:,-1], [-1e-3, 100.+1e-3])    \n",
    "    \n",
    "    # load Qphi \n",
    "    Qphi = load_Qphi_support(binary)\n",
    "    Qphi.to(device)\n",
    "    \n",
    "    # check support\n",
    "    with torch.no_grad(): \n",
    "        logpX = np.array(Qphi.log_prob(torch.tensor(X, dtype=torch.float32).to(device)).detach().cpu())\n",
    "        if verbose: print(logpX)\n",
    "            \n",
    "        _, logps = Qphi.sample_and_log_prob(nsample)\n",
    "        logps = np.array(logps.detach().cpu())\n",
    "    \n",
    "    support = np.zeros(X.shape[0])\n",
    "    for i in range(X.shape[0]): \n",
    "        support[i] = np.mean(logpX[i] < logps)\n",
    "    if verbose: print(support)\n",
    "        \n",
    "    return (support < threshold)\n",
    "    \n",
    "def sample_qphi(binary, X, nsample=10000): \n",
    "    ''' sample qphi(Y | X) for some binary combination \n",
    "    '''\n",
    "    # load qphi\n",
    "    qphi = load_qphi(binary)\n",
    "    \n",
    "    # sample\n",
    "    with torch.no_grad(): \n",
    "        samps = []\n",
    "        for _X in np.atleast_2d(X): \n",
    "            samp = qphi.sample((nsample,), \n",
    "                               x=torch.tensor(_X, dtype=torch.float32).to(device), \n",
    "                               show_progress_bars=False)\n",
    "            samps.append(np.array(samp.detach().cpu()).flatten())\n",
    "    return 10**np.array(samps)\n",
    "\n",
    "def dY_jackknife(dY, zipcodes, func=np.median, njack=5): \n",
    "    ''' jackknife uncertainties \n",
    "    '''\n",
    "    mu_dY = func(dY)\n",
    "    \n",
    "    mu_dY_jack, n_jack = [], 0\n",
    "    for i in range(njack): \n",
    "        in_jack = ((zipcodes % njack) == i)\n",
    "        if np.sum(in_jack) == 0: continue\n",
    "            \n",
    "        mu_dY_jack.append(func(dY[~in_jack]))\n",
    "        n_jack += 1\n",
    "    if n_jack < 3: return np.inf\n",
    "    \n",
    "    mu_dY_jack = np.array(mu_dY_jack)\n",
    "    \n",
    "    sig_jack = np.sqrt((n_jack - 1)/n_jack * np.sum((mu_dY_jack - mu_dY)**2))\n",
    "    return sig_jack"
   ]
  },
  {
   "cell_type": "code",
   "execution_count": 182,
   "metadata": {},
   "outputs": [],
   "source": [
    "def estimate_treatment(activity, archs, nzip_threshold=10, n_jack=10, verbose=False): \n",
    "    dY_archs, sig_dY_archs = [], []\n",
    "    for arch in archs: \n",
    "        exps = find_natural_experiments(activity, arch)\n",
    "\n",
    "        dYs, z_dYs = [], [] \n",
    "        for exp in exps: \n",
    "            if verbose: print(arch, ':', uncode(exp[0]), '-', uncode(exp[1]))\n",
    "                \n",
    "            # find anchor\n",
    "            treated_code, control_code = exp\n",
    "            treated_enough, control_enough = False, False\n",
    "            if treated_code in act_enough_stat: treated_enough = True\n",
    "            if control_code in act_enough_stat: control_enough = True\n",
    "\n",
    "            if treated_enough and control_enough: \n",
    "                nzip_treated = len(np.unique(np.array(fema['zipcode'])[arch_dict[arch] & (binary_act_codes == treated_code)]))\n",
    "                nzip_control = len(np.unique(np.array(fema['zipcode'])[arch_dict[arch] & (binary_act_codes == control_code)]))\n",
    "                if nzip_treated > nzip_control: \n",
    "                    treated_enough = True\n",
    "                    control_enough = False\n",
    "                if nzip_treated <= nzip_control: \n",
    "                    treated_enough = False\n",
    "                    control_enough = True                \n",
    "\n",
    "            enough = np.array([treated_enough, control_enough])\n",
    "\n",
    "            code_samples = np.array(exp)[~enough]\n",
    "            code_anchor = np.array(exp)[enough]\n",
    "\n",
    "            X_samples = _data[:,1:][arch_dict[arch] & (binary_act_codes == code_samples)]\n",
    "            Y_samples = 10**_data[:,0][arch_dict[arch] & (binary_act_codes == code_samples)]\n",
    "            z_samples = np.array(fema['zipcode'])[arch_dict[arch] & (binary_act_codes == code_samples)]\n",
    "\n",
    "            # check support for X\n",
    "            support = check_support(code_anchor, X_samples, nsample=10000, verbose=False)\n",
    "            if np.sum(support) == 0: continue \n",
    "            if verbose: print('%i communities, %i zipcodes' % (np.sum(support), len(np.unique(z_samples[support]))))\n",
    "\n",
    "            # calculate <Y_anchor> \n",
    "            Ys = sample_qphi(code_anchor, X_samples[support], nsample=10000)\n",
    "            mu_Y_anchor = np.mean(Ys, axis=1)\n",
    "\n",
    "            dY = (Y_samples[support] - mu_Y_anchor) * (np.array([-1, 1])[enough])[0]\n",
    "            dYs.append(dY)\n",
    "            z_dYs.append(z_samples[support])\n",
    "            \n",
    "            if verbose: \n",
    "                if len(np.unique(z_samples[support])) < nzip_threshold: \n",
    "                    continue \n",
    "                \n",
    "                #sig_jack = dY_jackknife(dY, z_samples[support], func=np.median, njack=5)\n",
    "                #q0, q1, q2 = np.quantile(dY, [0.16, 0.5, 0.84])\n",
    "                #if verbose: print('  median: %.2f +/-%.2f' % (q1, sig_jack))\n",
    "\n",
    "                sig_jack = dY_jackknife(dY, z_samples[support], func=np.mean, njack=5)\n",
    "                q1 = np.mean(dY)\n",
    "                if verbose: print('  mean: %.2f +/-%.2f' % (q1, sig_jack))\n",
    "\n",
    "        if len(dYs) == 0: \n",
    "            if verbose: print(\"  Not enough communities\\n\")\n",
    "            dY_archs.append(np.inf)\n",
    "            sig_dY_archs.append(np.inf)\n",
    "            continue \n",
    "\n",
    "        dYs = np.concatenate(dYs)\n",
    "        z_dYs = np.concatenate(z_dYs)\n",
    "\n",
    "        if verbose: print('%s : all' % arch)\n",
    "        if len(np.unique(z_dYs)) < nzip_threshold: \n",
    "            if verbose: print(\"  Not enough communities from different zipcodes; only %i zipcodes\\n\" % \n",
    "                              len(np.unique(z_dYs)))\n",
    "            dY_archs.append(np.inf)\n",
    "            sig_dY_archs.append(np.inf)\n",
    "            continue \n",
    "        \n",
    "        if verbose:     \n",
    "            print('%i communities, %i zipcodes' % (len(dYs), len(np.unique(z_dYs))))\n",
    "            for njack in [10, 20, 30]: \n",
    "                sig_jack = dY_jackknife(dYs, z_dYs, func=np.median, njack=njack)\n",
    "                q0, q1, q2 = np.quantile(dYs, [0.16, 0.5, 0.84])\n",
    "                print('   median: %.2f +/-%.2f' % (q1, sig_jack))\n",
    "\n",
    "            for njack in [10, 20, 30]:         \n",
    "                sig_jack = dY_jackknife(dYs, z_dYs, func=np.mean, njack=njack)\n",
    "                q1 = np.mean(dYs)\n",
    "                print('   mean: %.2f +/-%.2f' % (q1, sig_jack))\n",
    "            print()\n",
    "            print()\n",
    "            \n",
    "        sig_jack = dY_jackknife(dYs, z_dYs, func=np.mean, njack=n_jack)\n",
    "        q1 = np.mean(dYs)   \n",
    "        \n",
    "        dY_archs.append(q1)\n",
    "        sig_dY_archs.append(sig_jack)\n",
    "        \n",
    "    return dY_archs, sig_dY_archs"
   ]
  },
  {
   "cell_type": "code",
   "execution_count": 174,
   "metadata": {
    "scrolled": false
   },
   "outputs": [
    {
     "name": "stdout",
     "output_type": "stream",
     "text": [
      "rural : [1 0 0 0 0 0 0] - [0 0 0 0 0 0 0]\n",
      "2 communities, 1 zipcodes\n",
      "rural : all\n",
      "  Not enough communities from different zipcodes; only 1 zipcodes\n",
      "\n",
      "small : [1 0 0 0 0 0 0] - [0 0 0 0 0 0 0]\n",
      "1 communities, 1 zipcodes\n",
      "small : [1 0 0 0 0 0 1] - [0 0 0 0 0 0 1]\n",
      "70 communities, 3 zipcodes\n",
      "small : all\n",
      "  Not enough communities from different zipcodes; only 4 zipcodes\n",
      "\n",
      "micro : [1 0 0 0 0 0 0] - [0 0 0 0 0 0 0]\n",
      "26 communities, 6 zipcodes\n",
      "micro : [1 0 0 1 0 0 0] - [0 0 0 1 0 0 0]\n",
      "275 communities, 6 zipcodes\n",
      "micro : [1 0 0 0 0 0 1] - [0 0 0 0 0 0 1]\n",
      "120 communities, 9 zipcodes\n",
      "micro : [1 1 0 0 0 0 1] - [0 1 0 0 0 0 1]\n",
      "69 communities, 5 zipcodes\n",
      "micro : [1 0 0 1 0 0 1] - [0 0 0 1 0 0 1]\n",
      "10 communities, 2 zipcodes\n",
      "micro : [1 1 0 1 0 0 1] - [0 1 0 1 0 0 1]\n",
      "micro : all\n",
      "500 communities, 28 zipcodes\n",
      "   median: -20611.07 +/-3790.36\n",
      "   median: -20611.07 +/-3637.71\n",
      "   median: -20611.07 +/-3565.23\n",
      "   mean: -6425.57 +/-5178.73\n",
      "   mean: -6425.57 +/-4694.78\n",
      "   mean: -6425.57 +/-4474.35\n",
      "\n",
      "\n",
      "metro : [1 0 0 0 0 0 0] - [0 0 0 0 0 0 0]\n",
      "290 communities, 36 zipcodes\n",
      "  mean: 6852.58 +/-4965.28\n",
      "\n",
      "metro : [1 1 0 0 0 0 0] - [0 1 0 0 0 0 0]\n",
      "317 communities, 36 zipcodes\n",
      "  mean: 4417.46 +/-4452.49\n",
      "\n",
      "metro : [1 0 0 1 0 0 0] - [0 0 0 1 0 0 0]\n",
      "743 communities, 45 zipcodes\n",
      "  mean: 571.34 +/-4159.20\n",
      "\n",
      "metro : [1 1 0 1 0 0 0] - [0 1 0 1 0 0 0]\n",
      "2 communities, 1 zipcodes\n",
      "metro : [1 1 0 1 1 0 0] - [0 1 0 1 1 0 0]\n",
      "metro : [1 0 0 0 0 0 1] - [0 0 0 0 0 0 1]\n",
      "237 communities, 31 zipcodes\n",
      "  mean: 6660.09 +/-4617.74\n",
      "\n",
      "metro : [1 1 0 0 0 0 1] - [0 1 0 0 0 0 1]\n",
      "428 communities, 43 zipcodes\n",
      "  mean: 21227.62 +/-17535.74\n",
      "\n",
      "metro : [1 0 0 1 0 0 1] - [0 0 0 1 0 0 1]\n",
      "283 communities, 42 zipcodes\n",
      "  mean: 49334.75 +/-51072.50\n",
      "\n",
      "metro : [1 1 0 1 0 0 1] - [0 1 0 1 0 0 1]\n",
      "3 communities, 2 zipcodes\n",
      "metro : all\n",
      "2303 communities, 229 zipcodes\n",
      "   median: 807.12 +/-3181.83\n",
      "   median: 807.12 +/-3003.47\n",
      "   median: 807.12 +/-3001.04\n",
      "   mean: 12381.25 +/-7791.13\n",
      "   mean: 12381.25 +/-7140.03\n",
      "   mean: 12381.25 +/-6947.60\n",
      "\n",
      "\n"
     ]
    },
    {
     "data": {
      "text/plain": [
       "([inf, inf, -6425.568440585936, 12381.247342548519],\n",
       " [inf, inf, 5178.733657352417, 7791.131356407996])"
      ]
     },
     "execution_count": 174,
     "metadata": {},
     "output_type": "execute_result"
    }
   ],
   "source": [
    "estimate_treatment('c360', ['rural', 'small', 'micro', 'metro'], verbose=True)"
   ]
  },
  {
   "cell_type": "markdown",
   "metadata": {},
   "source": [
    "## c520"
   ]
  },
  {
   "cell_type": "code",
   "execution_count": 175,
   "metadata": {
    "scrolled": false
   },
   "outputs": [
    {
     "name": "stdout",
     "output_type": "stream",
     "text": [
      "rural : [0 1 0 0 0 0 1] - [0 0 0 0 0 0 1]\n",
      "11 communities, 2 zipcodes\n",
      "rural : all\n",
      "  Not enough communities from different zipcodes; only 2 zipcodes\n",
      "\n",
      "small : [0 1 0 0 0 0 0] - [0 0 0 0 0 0 0]\n",
      "288 communities, 5 zipcodes\n",
      "small : [0 1 0 0 0 0 1] - [0 0 0 0 0 0 1]\n",
      "9 communities, 2 zipcodes\n",
      "small : all\n",
      "  Not enough communities from different zipcodes; only 7 zipcodes\n",
      "\n",
      "micro : [0 1 0 0 0 0 0] - [0 0 0 0 0 0 0]\n",
      "415 communities, 7 zipcodes\n",
      "micro : [1 1 0 1 0 0 0] - [1 0 0 1 0 0 0]\n",
      "12 communities, 4 zipcodes\n",
      "micro : [0 1 0 0 0 0 1] - [0 0 0 0 0 0 1]\n",
      "284 communities, 7 zipcodes\n",
      "micro : [0 1 0 1 0 0 1] - [0 0 0 1 0 0 1]\n",
      "micro : [1 1 0 1 0 0 1] - [1 0 0 1 0 0 1]\n",
      "micro : all\n",
      "711 communities, 18 zipcodes\n",
      "   median: -5183.27 +/-13423.50\n",
      "   median: -5183.27 +/-13615.91\n",
      "   median: -5183.27 +/-13856.56\n",
      "   mean: 22384.22 +/-20023.59\n",
      "   mean: 22384.22 +/-20178.96\n",
      "   mean: 22384.22 +/-20561.55\n",
      "\n",
      "\n",
      "metro : [0 1 0 0 0 0 0] - [0 0 0 0 0 0 0]\n",
      "949 communities, 66 zipcodes\n",
      "  mean: -1106.88 +/-10442.88\n",
      "\n",
      "metro : [0 1 0 1 0 0 0] - [0 0 0 1 0 0 0]\n",
      "5 communities, 3 zipcodes\n",
      "metro : [1 1 0 1 0 0 0] - [1 0 0 1 0 0 0]\n",
      "547 communities, 44 zipcodes\n",
      "  mean: 2405.24 +/-9505.10\n",
      "\n",
      "metro : [1 1 0 1 1 0 0] - [1 0 0 1 1 0 0]\n",
      "343 communities, 3 zipcodes\n",
      "metro : [0 1 0 0 0 0 1] - [0 0 0 0 0 0 1]\n",
      "1740 communities, 143 zipcodes\n",
      "  mean: -11803.37 +/-5735.22\n",
      "\n",
      "metro : [0 1 0 1 0 0 1] - [0 0 0 1 0 0 1]\n",
      "256 communities, 5 zipcodes\n",
      "metro : [1 1 0 1 0 0 1] - [1 0 0 1 0 0 1]\n",
      "52 communities, 14 zipcodes\n",
      "  mean: 21899.90 +/-8587.24\n",
      "\n",
      "metro : all\n",
      "3892 communities, 273 zipcodes\n",
      "   median: 677.46 +/-1760.90\n",
      "   median: 677.46 +/-1915.07\n",
      "   median: 677.46 +/-1857.54\n",
      "   mean: -2819.88 +/-3120.46\n",
      "   mean: -2819.88 +/-4110.91\n",
      "   mean: -2819.88 +/-3947.84\n",
      "\n",
      "\n"
     ]
    },
    {
     "data": {
      "text/plain": [
       "([inf, inf, 22384.224849859358, -2819.877564766716],\n",
       " [inf, inf, 20023.593916884052, 3120.4617144988547])"
      ]
     },
     "execution_count": 175,
     "metadata": {},
     "output_type": "execute_result"
    }
   ],
   "source": [
    "estimate_treatment('c520', ['rural', 'small', 'micro', 'metro'], verbose=True)"
   ]
  },
  {
   "cell_type": "markdown",
   "metadata": {},
   "source": [
    "## c530"
   ]
  },
  {
   "cell_type": "code",
   "execution_count": 179,
   "metadata": {},
   "outputs": [
    {
     "name": "stdout",
     "output_type": "stream",
     "text": [
      "rural : [0 0 1 0 0 0 0] - [0 0 0 0 0 0 0]\n",
      "3 communities, 2 zipcodes\n",
      "rural : all\n",
      "  Not enough communities from different zipcodes; only 2 zipcodes\n",
      "\n",
      "micro : [0 0 1 0 0 0 0] - [0 0 0 0 0 0 0]\n",
      "3 communities, 3 zipcodes\n",
      "micro : [0 1 1 0 0 0 0] - [0 1 0 0 0 0 0]\n",
      "160 communities, 2 zipcodes\n",
      "micro : [0 1 1 0 0 0 1] - [0 1 0 0 0 0 1]\n",
      "12 communities, 1 zipcodes\n",
      "micro : all\n",
      "  Not enough communities from different zipcodes; only 6 zipcodes\n",
      "\n",
      "metro : [0 0 1 0 0 0 0] - [0 0 0 0 0 0 0]\n",
      "338 communities, 8 zipcodes\n",
      "metro : [0 1 1 0 0 0 0] - [0 1 0 0 0 0 0]\n",
      "5 communities, 2 zipcodes\n",
      "metro : [1 0 1 1 0 0 0] - [1 0 0 1 0 0 0]\n",
      "94 communities, 10 zipcodes\n",
      "  mean: -6257.14 +/-3355.32\n",
      "\n",
      "metro : [0 1 1 1 0 0 0] - [0 1 0 1 0 0 0]\n",
      "metro : [1 1 1 1 1 0 0] - [1 1 0 1 1 0 0]\n",
      "324 communities, 3 zipcodes\n",
      "metro : [0 1 1 0 0 0 1] - [0 1 0 0 0 0 1]\n",
      "112 communities, 10 zipcodes\n",
      "  mean: 45701.71 +/-51814.65\n",
      "\n",
      "metro : [1 1 1 1 0 0 1] - [1 1 0 1 0 0 1]\n",
      "132 communities, 6 zipcodes\n",
      "metro : all\n",
      "1005 communities, 39 zipcodes\n",
      "   median: -4052.06 +/-3314.29\n",
      "   median: -4052.06 +/-3483.60\n",
      "   median: -4052.06 +/-4143.18\n",
      "   mean: 18563.03 +/-7992.65\n",
      "   mean: 18563.03 +/-8605.55\n",
      "   mean: 18563.03 +/-9422.29\n",
      "\n",
      "\n"
     ]
    },
    {
     "data": {
      "text/plain": [
       "([inf, inf, inf, 18563.030629639823], [inf, inf, inf, 7992.6452768869785])"
      ]
     },
     "execution_count": 179,
     "metadata": {},
     "output_type": "execute_result"
    }
   ],
   "source": [
    "estimate_treatment('c530', ['rural', 'small', 'micro', 'metro'], verbose=True)"
   ]
  },
  {
   "cell_type": "markdown",
   "metadata": {},
   "source": [
    "## c540"
   ]
  },
  {
   "cell_type": "code",
   "execution_count": 181,
   "metadata": {},
   "outputs": [
    {
     "name": "stdout",
     "output_type": "stream",
     "text": [
      "rural : [1 0 0 1 0 0 0] - [1 0 0 0 0 0 0]\n",
      "small : [0 0 0 1 0 0 0] - [0 0 0 0 0 0 0]\n",
      "442 communities, 4 zipcodes\n",
      "small : all\n",
      "  Not enough communities from different zipcodes; only 4 zipcodes\n",
      "\n",
      "micro : [0 0 0 1 0 0 0] - [0 0 0 0 0 0 0]\n",
      "317 communities, 6 zipcodes\n",
      "micro : [1 0 0 1 0 0 0] - [1 0 0 0 0 0 0]\n",
      "28 communities, 6 zipcodes\n",
      "micro : [0 0 0 1 0 0 1] - [0 0 0 0 0 0 1]\n",
      "5 communities, 3 zipcodes\n",
      "micro : [0 1 0 1 0 0 1] - [0 1 0 0 0 0 1]\n",
      "6 communities, 2 zipcodes\n",
      "micro : [1 1 0 1 0 0 1] - [1 1 0 0 0 0 1]\n",
      "micro : all\n",
      "356 communities, 17 zipcodes\n",
      "   median: -9410.72 +/-18928.31\n",
      "   median: -9410.72 +/-13821.66\n",
      "   median: -9410.72 +/-11303.95\n",
      "   mean: -1540.07 +/-2247.84\n",
      "   mean: -1540.07 +/-1148.95\n",
      "   mean: -1540.07 +/-4563.05\n",
      "\n",
      "\n",
      "metro : [0 0 0 1 0 0 0] - [0 0 0 0 0 0 0]\n",
      "1394 communities, 65 zipcodes\n",
      "  mean: 1353.24 +/-9754.19\n",
      "metro : [1 0 0 1 0 0 0] - [1 0 0 0 0 0 0]\n",
      "217 communities, 25 zipcodes\n",
      "  mean: 1311.85 +/-8254.71\n",
      "metro : [0 1 0 1 0 0 0] - [0 1 0 0 0 0 0]\n",
      "metro : [1 1 0 1 1 0 0] - [1 1 0 0 1 0 0]\n",
      "12 communities, 2 zipcodes\n",
      "metro : [0 0 0 1 0 0 1] - [0 0 0 0 0 0 1]\n",
      "332 communities, 84 zipcodes\n",
      "  mean: 3467.38 +/-3665.98\n",
      "metro : [0 1 0 1 0 0 1] - [0 1 0 0 0 0 1]\n",
      "491 communities, 12 zipcodes\n",
      "  mean: 46961.36 +/-25145.66\n",
      "metro : [1 1 0 1 0 0 1] - [1 1 0 0 0 0 1]\n",
      "35 communities, 7 zipcodes\n",
      "metro : all\n",
      "2481 communities, 190 zipcodes\n",
      "   median: -370.14 +/-2770.23\n",
      "   median: -370.14 +/-2994.94\n",
      "   median: -370.14 +/-2766.78\n",
      "   mean: 10246.68 +/-5787.05\n",
      "   mean: 10246.68 +/-6048.34\n",
      "   mean: 10246.68 +/-5853.61\n",
      "\n",
      "\n"
     ]
    },
    {
     "data": {
      "text/plain": [
       "([inf, inf, -1540.0731570159403, 10246.676244871562],\n",
       " [inf, inf, 2247.835210772511, 5787.054655626049])"
      ]
     },
     "execution_count": 181,
     "metadata": {},
     "output_type": "execute_result"
    }
   ],
   "source": [
    "estimate_treatment('c540', ['rural', 'small', 'micro', 'metro'], verbose=True)"
   ]
  },
  {
   "cell_type": "markdown",
   "metadata": {},
   "source": [
    "## c610"
   ]
  },
  {
   "cell_type": "code",
   "execution_count": 183,
   "metadata": {},
   "outputs": [
    {
     "name": "stdout",
     "output_type": "stream",
     "text": [
      "rural : [0 0 0 0 1 0 0] - [0 0 0 0 0 0 0]\n",
      "24 communities, 2 zipcodes\n",
      "rural : all\n",
      "  Not enough communities from different zipcodes; only 2 zipcodes\n",
      "\n",
      "small : [0 0 0 0 1 0 0] - [0 0 0 0 0 0 0]\n",
      "174 communities, 2 zipcodes\n",
      "small : all\n",
      "  Not enough communities from different zipcodes; only 2 zipcodes\n",
      "\n",
      "micro : [0 0 0 0 1 0 0] - [0 0 0 0 0 0 0]\n",
      "3364 communities, 14 zipcodes\n",
      "  mean: -874.40 +/-3062.36\n",
      "micro : [0 0 0 0 1 0 1] - [0 0 0 0 0 0 1]\n",
      "115 communities, 2 zipcodes\n",
      "micro : all\n",
      "3479 communities, 15 zipcodes\n",
      "   median: -10954.47 +/-1453.95\n",
      "   median: -10954.47 +/-1288.37\n",
      "   median: -10954.47 +/-1368.21\n",
      "   mean: -483.99 +/-3100.18\n",
      "   mean: -483.99 +/-2563.25\n",
      "   mean: -483.99 +/-3166.75\n",
      "\n",
      "\n",
      "metro : [0 0 0 0 1 0 0] - [0 0 0 0 0 0 0]\n",
      "262 communities, 7 zipcodes\n",
      "metro : [0 1 0 0 1 0 0] - [0 1 0 0 0 0 0]\n",
      "1734 communities, 29 zipcodes\n",
      "  mean: 32883.71 +/-13727.61\n",
      "metro : [0 0 0 1 1 0 0] - [0 0 0 1 0 0 0]\n",
      "1919 communities, 54 zipcodes\n",
      "  mean: 9632.53 +/-8255.00\n",
      "metro : [1 0 0 1 1 0 0] - [1 0 0 1 0 0 0]\n",
      "2016 communities, 61 zipcodes\n",
      "  mean: 9760.96 +/-7950.04\n",
      "metro : [0 1 0 1 1 0 0] - [0 1 0 1 0 0 0]\n",
      "metro : [1 1 0 1 1 0 0] - [1 1 0 1 0 0 0]\n",
      "metro : [0 0 0 0 1 0 1] - [0 0 0 0 0 0 1]\n",
      "metro : [1 1 0 1 1 0 1] - [1 1 0 1 0 0 1]\n",
      "477 communities, 18 zipcodes\n",
      "  mean: 34050.29 +/-26151.36\n",
      "metro : all\n",
      "6408 communities, 162 zipcodes\n",
      "   median: -7476.34 +/-3433.65\n",
      "   median: -7476.34 +/-3604.77\n",
      "   median: -7476.34 +/-3313.56\n",
      "   mean: 16196.32 +/-6775.80\n",
      "   mean: 16196.32 +/-6896.34\n",
      "   mean: 16196.32 +/-6193.74\n",
      "\n",
      "\n"
     ]
    },
    {
     "data": {
      "text/plain": [
       "([inf, inf, -483.98550820170243, 16196.323788170916],\n",
       " [inf, inf, 3100.1821669844994, 6775.803559937712])"
      ]
     },
     "execution_count": 183,
     "metadata": {},
     "output_type": "execute_result"
    }
   ],
   "source": [
    "estimate_treatment('c610', ['rural', 'small', 'micro', 'metro'], verbose=True)"
   ]
  },
  {
   "cell_type": "markdown",
   "metadata": {},
   "source": [
    "## c620"
   ]
  },
  {
   "cell_type": "code",
   "execution_count": 184,
   "metadata": {},
   "outputs": [
    {
     "name": "stdout",
     "output_type": "stream",
     "text": [
      "  Not enough communities\n",
      "\n",
      "  Not enough communities\n",
      "\n",
      "  Not enough communities\n",
      "\n",
      "metro : [1 1 0 1 0 1 1] - [1 1 0 1 0 0 1]\n",
      "  Not enough communities\n",
      "\n"
     ]
    },
    {
     "data": {
      "text/plain": [
       "([inf, inf, inf, inf], [inf, inf, inf, inf])"
      ]
     },
     "execution_count": 184,
     "metadata": {},
     "output_type": "execute_result"
    }
   ],
   "source": [
    "estimate_treatment('c620', ['rural', 'small', 'micro', 'metro'], verbose=True)"
   ]
  },
  {
   "cell_type": "markdown",
   "metadata": {},
   "source": [
    "## c630"
   ]
  },
  {
   "cell_type": "code",
   "execution_count": 185,
   "metadata": {
    "scrolled": false
   },
   "outputs": [
    {
     "name": "stdout",
     "output_type": "stream",
     "text": [
      "rural : [0 0 0 0 0 0 1] - [0 0 0 0 0 0 0]\n",
      "35 communities, 9 zipcodes\n",
      "rural : all\n",
      "  Not enough communities from different zipcodes; only 9 zipcodes\n",
      "\n",
      "small : [0 0 0 0 0 0 1] - [0 0 0 0 0 0 0]\n",
      "35 communities, 6 zipcodes\n",
      "small : [0 1 0 0 0 0 1] - [0 1 0 0 0 0 0]\n",
      "5 communities, 2 zipcodes\n",
      "small : all\n",
      "  Not enough communities from different zipcodes; only 7 zipcodes\n",
      "\n",
      "micro : [0 0 0 0 0 0 1] - [0 0 0 0 0 0 0]\n",
      "403 communities, 20 zipcodes\n",
      "  mean: 10895.41 +/-13186.79\n",
      "micro : [0 1 0 0 0 0 1] - [0 1 0 0 0 0 0]\n",
      "282 communities, 6 zipcodes\n",
      "micro : [0 0 0 1 0 0 1] - [0 0 0 1 0 0 0]\n",
      "5 communities, 3 zipcodes\n",
      "micro : [1 0 0 1 0 0 1] - [1 0 0 1 0 0 0]\n",
      "10 communities, 2 zipcodes\n",
      "micro : [1 1 0 1 0 0 1] - [1 1 0 1 0 0 0]\n",
      "2 communities, 2 zipcodes\n",
      "micro : all\n",
      "702 communities, 31 zipcodes\n",
      "   median: -3290.63 +/-6374.97\n",
      "   median: -3290.63 +/-6489.85\n",
      "   median: -3290.63 +/-6419.48\n",
      "   mean: 16372.87 +/-7464.14\n",
      "   mean: 16372.87 +/-7037.69\n",
      "   mean: 16372.87 +/-7312.01\n",
      "\n",
      "\n",
      "metro : [0 0 0 0 0 0 1] - [0 0 0 0 0 0 0]\n",
      "2035 communities, 150 zipcodes\n",
      "  mean: 23034.62 +/-9335.68\n",
      "metro : [0 1 0 0 0 0 1] - [0 1 0 0 0 0 0]\n",
      "730 communities, 68 zipcodes\n",
      "  mean: -12217.61 +/-2645.18\n",
      "metro : [0 0 0 1 0 0 1] - [0 0 0 1 0 0 0]\n",
      "199 communities, 26 zipcodes\n",
      "  mean: -5464.11 +/-2107.42\n",
      "metro : [1 0 0 1 0 0 1] - [1 0 0 1 0 0 0]\n",
      "272 communities, 62 zipcodes\n",
      "  mean: -5993.10 +/-5122.19\n",
      "metro : [0 1 0 1 0 0 1] - [0 1 0 1 0 0 0]\n",
      "2 communities, 1 zipcodes\n",
      "metro : [1 1 0 1 0 0 1] - [1 1 0 1 0 0 0]\n",
      "97 communities, 14 zipcodes\n",
      "  mean: 9093.47 +/-11891.54\n",
      "metro : [1 1 0 1 1 0 1] - [1 1 0 1 1 0 0]\n",
      "68 communities, 12 zipcodes\n",
      "  mean: 4795.22 +/-5683.57\n",
      "metro : all\n",
      "3403 communities, 331 zipcodes\n",
      "   median: -1649.31 +/-1409.75\n",
      "   median: -1649.31 +/-1781.68\n",
      "   median: -1649.31 +/-1513.39\n",
      "   mean: 10682.92 +/-6998.70\n",
      "   mean: 10682.92 +/-6852.66\n",
      "   mean: 10682.92 +/-6210.48\n",
      "\n",
      "\n"
     ]
    },
    {
     "data": {
      "text/plain": [
       "([inf, inf, 16372.872905843793, 10682.915197390044],\n",
       " [inf, inf, 7464.140531130008, 6998.704203708321])"
      ]
     },
     "execution_count": 185,
     "metadata": {},
     "output_type": "execute_result"
    }
   ],
   "source": [
    "estimate_treatment('c630', ['rural', 'small', 'micro', 'metro'], verbose=True)"
   ]
  },
  {
   "cell_type": "code",
   "execution_count": 186,
   "metadata": {},
   "outputs": [],
   "source": [
    "dYs, sig_dYs = [], []\n",
    "for activity in binary_activities: \n",
    "    dY, sig_dY = estimate_treatment(activity, ['rural', 'small', 'micro', 'metro'], verbose=False)\n",
    "\n",
    "    dYs.append(np.array(dY))\n",
    "    sig_dYs.append(np.array(sig_dY))\n",
    "    \n",
    "dYs = np.array(dYs).T\n",
    "sig_dYs = np.array(sig_dYs).T"
   ]
  },
  {
   "cell_type": "code",
   "execution_count": 213,
   "metadata": {},
   "outputs": [],
   "source": [
    "np.save('dYs.binary.npy', dYs)\n",
    "np.save('sig_dYs.binary.npy', sig_dYs)"
   ]
  },
  {
   "cell_type": "code",
   "execution_count": 211,
   "metadata": {},
   "outputs": [
    {
     "data": {
      "text/plain": [
       "Text(0, 0.5, 'impact of CRS activities [10,000 USD/policy]')"
      ]
     },
     "execution_count": 211,
     "metadata": {},
     "output_type": "execute_result"
    },
    {
     "data": {
      "image/png": "[encoded data removed]",
      "text/plain": [
       "<Figure size 720x720 with 5 Axes>"
      ]
     },
     "metadata": {
      "needs_background": "light"
     },
     "output_type": "display_data"
    }
   ],
   "source": [
    "fig = plt.figure(figsize=(10,10))\n",
    "\n",
    "for i_arch, arch in enumerate(['rural', 'small', 'micro', 'metro']): \n",
    "    sub = fig.add_subplot(4,1,i_arch+1)\n",
    "    \n",
    "    enough_stat = np.isfinite(dYs[i_arch])\n",
    "    #print(np.arange(len(binary_activities))[enough_stat])\n",
    "    sub.errorbar(np.arange(len(binary_activities))[enough_stat], dYs[i_arch][enough_stat]/1e4, \n",
    "                 yerr=[sig_dYs[i_arch][enough_stat]/1e4, sig_dYs[i_arch][enough_stat]/1e4], \n",
    "                 fmt='.C%i' % i_arch)\n",
    "    #sub.scatter(np.arange(len(binary_activities))[np.isfinite(dYs[i_arch])], \n",
    "    #            dYs[i_arch][np.isfinite(dYs[i_arch])]/1e4, color='C%i' % i_arch, s=20)    \n",
    "    \n",
    "   \n",
    "    sub.text(0.01, 0.95, arch, transform=sub.transAxes, ha='left', va='top', fontsize=25)\n",
    "    sub.axhline(0., color='k', linestyle='--')    \n",
    "    sub.set_xlim(-0.5, 6.5)\n",
    "    sub.set_xticks(np.arange(7))\n",
    "    sub.set_xticklabels([])\n",
    "    sub.set_ylim(-2., 5.)\n",
    "    \n",
    "sub.set_xticklabels(binary_activities)\n",
    "fig.subplots_adjust(hspace=0.1)\n",
    "\n",
    "fig.add_subplot(111, frameon=False)\n",
    "# hide tick and tick label of the big axis\n",
    "plt.tick_params(labelcolor='none', which='both', top=False, bottom=False, left=False, right=False)\n",
    "plt.ylabel(\"impact of CRS activities [10,000 USD/policy]\", fontsize=20)"
   ]
  },
  {
   "cell_type": "code",
   "execution_count": null,
   "metadata": {},
   "outputs": [],
   "source": []
  }
 ],
 "metadata": {
  "kernelspec": {
   "display_name": "noah",
   "language": "python",
   "name": "noah"
  },
  "language_info": {
   "codemirror_mode": {
    "name": "ipython",
    "version": 3
   },
   "file_extension": ".py",
   "mimetype": "text/x-python",
   "name": "python",
   "nbconvert_exporter": "python",
   "pygments_lexer": "ipython3",
   "version": "3.7.9"
  }
 },
 "nbformat": 4,
 "nbformat_minor": 4
}
